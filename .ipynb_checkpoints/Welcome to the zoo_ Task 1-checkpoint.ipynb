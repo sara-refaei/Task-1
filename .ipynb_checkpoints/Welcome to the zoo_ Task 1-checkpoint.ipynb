{
 "cells": [
  {
   "cell_type": "markdown",
   "metadata": {},
   "source": [
    "Make project like Thanos project with data (50 images) to read all files and rename these files to uppercase (Example: 'Brad Pitt.jpg' --> 'BRAD PITT.jpg'"
   ]
  },
  {
   "cell_type": "code",
   "execution_count": 3,
   "metadata": {},
   "outputs": [],
   "source": [
    "#importing libraries\n",
    "import os"
   ]
  },
  {
   "cell_type": "code",
   "execution_count": 6,
   "metadata": {},
   "outputs": [],
   "source": [
    "#create function to read file animal from directory\n",
    "def get_animals(path):\n",
    "    zoo = os.listdir(path)\n",
    "    return zoo"
   ]
  },
  {
   "cell_type": "code",
   "execution_count": 9,
   "metadata": {},
   "outputs": [],
   "source": [
    "#create a list of animals\n",
    "animals = get_animals('animals')"
   ]
  },
  {
   "cell_type": "code",
   "execution_count": 10,
   "metadata": {},
   "outputs": [
    {
     "data": {
      "text/plain": [
       "10"
      ]
     },
     "execution_count": 10,
     "metadata": {},
     "output_type": "execute_result"
    }
   ],
   "source": [
    "#check how many animal in the zoo\n",
    "len(animals)"
   ]
  },
  {
   "cell_type": "code",
   "execution_count": 21,
   "metadata": {},
   "outputs": [],
   "source": [
    "#rename these files to uppercase\n",
    "def rename_upper(animals):\n",
    "    \n",
    "    for i in animals:\n",
    "        animal_upper = i.upper()\n",
    "        os.rename('animals\\\\'+i , animal_upper)\n",
    "        print(f'animals uppercase: {animal_upper}')"
   ]
  },
  {
   "cell_type": "code",
   "execution_count": 22,
   "metadata": {},
   "outputs": [
    {
     "name": "stdout",
     "output_type": "stream",
     "text": [
      "animals uppercase: BEAR.JPG\n",
      "animals uppercase: BOIPELO BABY.JPG\n",
      "animals uppercase: CAT.JPG\n",
      "animals uppercase: DEER.JPG\n",
      "animals uppercase: GIRAFFE.JPG\n",
      "animals uppercase: LION.JPG\n",
      "animals uppercase: MONKEY.JPG\n",
      "animals uppercase: PARROT.JPG\n",
      "animals uppercase: TORTOISE.JPG\n",
      "animals uppercase: ZEBRA.JPG\n"
     ]
    }
   ],
   "source": [
    "rename_upper(animals)"
   ]
  },
  {
   "cell_type": "code",
   "execution_count": null,
   "metadata": {},
   "outputs": [],
   "source": []
  }
 ],
 "metadata": {
  "kernelspec": {
   "display_name": "Python 3",
   "language": "python",
   "name": "python3"
  },
  "language_info": {
   "codemirror_mode": {
    "name": "ipython",
    "version": 3
   },
   "file_extension": ".py",
   "mimetype": "text/x-python",
   "name": "python",
   "nbconvert_exporter": "python",
   "pygments_lexer": "ipython3",
   "version": "3.7.6"
  }
 },
 "nbformat": 4,
 "nbformat_minor": 4
}
